{
 "cells": [
  {
   "cell_type": "markdown",
   "metadata": {},
   "source": [
    "# 第三次作业-神经网络"
   ]
  },
  {
   "cell_type": "markdown",
   "metadata": {},
   "source": [
    "## 1.导入数据"
   ]
  },
  {
   "cell_type": "markdown",
   "metadata": {},
   "source": [
    "继续沿用第一、第二次的数据"
   ]
  },
  {
   "cell_type": "code",
   "execution_count": 3,
   "metadata": {},
   "outputs": [
    {
     "data": {
      "text/html": [
       "<div>\n",
       "<style scoped>\n",
       "    .dataframe tbody tr th:only-of-type {\n",
       "        vertical-align: middle;\n",
       "    }\n",
       "\n",
       "    .dataframe tbody tr th {\n",
       "        vertical-align: top;\n",
       "    }\n",
       "\n",
       "    .dataframe thead th {\n",
       "        text-align: right;\n",
       "    }\n",
       "</style>\n",
       "<table border=\"1\" class=\"dataframe\">\n",
       "  <thead>\n",
       "    <tr style=\"text-align: right;\">\n",
       "      <th></th>\n",
       "      <th>id</th>\n",
       "      <th>age</th>\n",
       "      <th>class of worker</th>\n",
       "      <th>detailed industry recode</th>\n",
       "      <th>detailed occupation recode</th>\n",
       "      <th>education</th>\n",
       "      <th>wage per hour</th>\n",
       "      <th>enroll in edu inst last wk</th>\n",
       "      <th>marital stat</th>\n",
       "      <th>major industry code</th>\n",
       "      <th>...</th>\n",
       "      <th>country of birth father</th>\n",
       "      <th>country of birth mother</th>\n",
       "      <th>country of birth self</th>\n",
       "      <th>citizenship</th>\n",
       "      <th>own business or self employed</th>\n",
       "      <th>fill inc questionnaire for veteran's admin</th>\n",
       "      <th>veterans benefits</th>\n",
       "      <th>weeks worked in year</th>\n",
       "      <th>year</th>\n",
       "      <th>y</th>\n",
       "    </tr>\n",
       "  </thead>\n",
       "  <tbody>\n",
       "    <tr>\n",
       "      <th>0</th>\n",
       "      <td>0</td>\n",
       "      <td>33</td>\n",
       "      <td>Private</td>\n",
       "      <td>34</td>\n",
       "      <td>26</td>\n",
       "      <td>Masters degree(MA MS MEng MEd MSW MBA)</td>\n",
       "      <td>0</td>\n",
       "      <td>Not in universe</td>\n",
       "      <td>Married-civilian spouse present</td>\n",
       "      <td>Finance insurance and real estate</td>\n",
       "      <td>...</td>\n",
       "      <td>China</td>\n",
       "      <td>China</td>\n",
       "      <td>Taiwan</td>\n",
       "      <td>Foreign born- Not a citizen of U S</td>\n",
       "      <td>2</td>\n",
       "      <td>Not in universe</td>\n",
       "      <td>2</td>\n",
       "      <td>52</td>\n",
       "      <td>95</td>\n",
       "      <td>50000+.</td>\n",
       "    </tr>\n",
       "    <tr>\n",
       "      <th>1</th>\n",
       "      <td>1</td>\n",
       "      <td>63</td>\n",
       "      <td>Private</td>\n",
       "      <td>7</td>\n",
       "      <td>22</td>\n",
       "      <td>Some college but no degree</td>\n",
       "      <td>0</td>\n",
       "      <td>Not in universe</td>\n",
       "      <td>Never married</td>\n",
       "      <td>Manufacturing-durable goods</td>\n",
       "      <td>...</td>\n",
       "      <td>?</td>\n",
       "      <td>?</td>\n",
       "      <td>United-States</td>\n",
       "      <td>Native- Born in the United States</td>\n",
       "      <td>0</td>\n",
       "      <td>Not in universe</td>\n",
       "      <td>2</td>\n",
       "      <td>52</td>\n",
       "      <td>95</td>\n",
       "      <td>- 50000.</td>\n",
       "    </tr>\n",
       "    <tr>\n",
       "      <th>2</th>\n",
       "      <td>2</td>\n",
       "      <td>71</td>\n",
       "      <td>Not in universe</td>\n",
       "      <td>0</td>\n",
       "      <td>0</td>\n",
       "      <td>7th and 8th grade</td>\n",
       "      <td>0</td>\n",
       "      <td>Not in universe</td>\n",
       "      <td>Married-civilian spouse present</td>\n",
       "      <td>Not in universe or children</td>\n",
       "      <td>...</td>\n",
       "      <td>Germany</td>\n",
       "      <td>United-States</td>\n",
       "      <td>United-States</td>\n",
       "      <td>Native- Born in the United States</td>\n",
       "      <td>0</td>\n",
       "      <td>Not in universe</td>\n",
       "      <td>2</td>\n",
       "      <td>0</td>\n",
       "      <td>95</td>\n",
       "      <td>- 50000.</td>\n",
       "    </tr>\n",
       "    <tr>\n",
       "      <th>3</th>\n",
       "      <td>3</td>\n",
       "      <td>43</td>\n",
       "      <td>Local government</td>\n",
       "      <td>43</td>\n",
       "      <td>10</td>\n",
       "      <td>Bachelors degree(BA AB BS)</td>\n",
       "      <td>0</td>\n",
       "      <td>Not in universe</td>\n",
       "      <td>Married-civilian spouse present</td>\n",
       "      <td>Education</td>\n",
       "      <td>...</td>\n",
       "      <td>United-States</td>\n",
       "      <td>United-States</td>\n",
       "      <td>United-States</td>\n",
       "      <td>Native- Born in the United States</td>\n",
       "      <td>0</td>\n",
       "      <td>Not in universe</td>\n",
       "      <td>2</td>\n",
       "      <td>52</td>\n",
       "      <td>95</td>\n",
       "      <td>- 50000.</td>\n",
       "    </tr>\n",
       "    <tr>\n",
       "      <th>4</th>\n",
       "      <td>4</td>\n",
       "      <td>57</td>\n",
       "      <td>Local government</td>\n",
       "      <td>40</td>\n",
       "      <td>32</td>\n",
       "      <td>Some college but no degree</td>\n",
       "      <td>0</td>\n",
       "      <td>Not in universe</td>\n",
       "      <td>Widowed</td>\n",
       "      <td>Entertainment</td>\n",
       "      <td>...</td>\n",
       "      <td>United-States</td>\n",
       "      <td>United-States</td>\n",
       "      <td>United-States</td>\n",
       "      <td>Native- Born in the United States</td>\n",
       "      <td>0</td>\n",
       "      <td>Not in universe</td>\n",
       "      <td>2</td>\n",
       "      <td>52</td>\n",
       "      <td>95</td>\n",
       "      <td>- 50000.</td>\n",
       "    </tr>\n",
       "  </tbody>\n",
       "</table>\n",
       "<p>5 rows × 42 columns</p>\n",
       "</div>"
      ],
      "text/plain": [
       "   id  age    class of worker  detailed industry recode  \\\n",
       "0   0   33            Private                        34   \n",
       "1   1   63            Private                         7   \n",
       "2   2   71    Not in universe                         0   \n",
       "3   3   43   Local government                        43   \n",
       "4   4   57   Local government                        40   \n",
       "\n",
       "   detailed occupation recode                                education  \\\n",
       "0                          26   Masters degree(MA MS MEng MEd MSW MBA)   \n",
       "1                          22               Some college but no degree   \n",
       "2                           0                        7th and 8th grade   \n",
       "3                          10               Bachelors degree(BA AB BS)   \n",
       "4                          32               Some college but no degree   \n",
       "\n",
       "   wage per hour enroll in edu inst last wk                      marital stat  \\\n",
       "0              0            Not in universe   Married-civilian spouse present   \n",
       "1              0            Not in universe                     Never married   \n",
       "2              0            Not in universe   Married-civilian spouse present   \n",
       "3              0            Not in universe   Married-civilian spouse present   \n",
       "4              0            Not in universe                           Widowed   \n",
       "\n",
       "                  major industry code  ... country of birth father  \\\n",
       "0   Finance insurance and real estate  ...                   China   \n",
       "1         Manufacturing-durable goods  ...                       ?   \n",
       "2         Not in universe or children  ...                 Germany   \n",
       "3                           Education  ...           United-States   \n",
       "4                       Entertainment  ...           United-States   \n",
       "\n",
       "  country of birth mother country of birth self  \\\n",
       "0                   China                Taiwan   \n",
       "1                       ?         United-States   \n",
       "2           United-States         United-States   \n",
       "3           United-States         United-States   \n",
       "4           United-States         United-States   \n",
       "\n",
       "                            citizenship own business or self employed  \\\n",
       "0   Foreign born- Not a citizen of U S                              2   \n",
       "1     Native- Born in the United States                             0   \n",
       "2     Native- Born in the United States                             0   \n",
       "3     Native- Born in the United States                             0   \n",
       "4     Native- Born in the United States                             0   \n",
       "\n",
       "  fill inc questionnaire for veteran's admin veterans benefits  \\\n",
       "0                            Not in universe                 2   \n",
       "1                            Not in universe                 2   \n",
       "2                            Not in universe                 2   \n",
       "3                            Not in universe                 2   \n",
       "4                            Not in universe                 2   \n",
       "\n",
       "   weeks worked in year  year          y  \n",
       "0                    52    95    50000+.  \n",
       "1                    52    95   - 50000.  \n",
       "2                     0    95   - 50000.  \n",
       "3                    52    95   - 50000.  \n",
       "4                    52    95   - 50000.  \n",
       "\n",
       "[5 rows x 42 columns]"
      ]
     },
     "execution_count": 3,
     "metadata": {},
     "output_type": "execute_result"
    }
   ],
   "source": [
    "import pandas as pd\n",
    "import numpy as np\n",
    "path='data/train.csv'\n",
    "df = pd.read_csv(path)\n",
    "df.head()"
   ]
  },
  {
   "cell_type": "markdown",
   "metadata": {},
   "source": [
    "## 2.数据预处理"
   ]
  },
  {
   "cell_type": "markdown",
   "metadata": {},
   "source": [
    "在第二次作业中已经详细说明，这里只贴代码"
   ]
  },
  {
   "cell_type": "code",
   "execution_count": 4,
   "metadata": {},
   "outputs": [
    {
     "data": {
      "text/html": [
       "<div>\n",
       "<style scoped>\n",
       "    .dataframe tbody tr th:only-of-type {\n",
       "        vertical-align: middle;\n",
       "    }\n",
       "\n",
       "    .dataframe tbody tr th {\n",
       "        vertical-align: top;\n",
       "    }\n",
       "\n",
       "    .dataframe thead th {\n",
       "        text-align: right;\n",
       "    }\n",
       "</style>\n",
       "<table border=\"1\" class=\"dataframe\">\n",
       "  <thead>\n",
       "    <tr style=\"text-align: right;\">\n",
       "      <th></th>\n",
       "      <th>id</th>\n",
       "      <th>age</th>\n",
       "      <th>class of worker</th>\n",
       "      <th>detailed industry recode</th>\n",
       "      <th>detailed occupation recode</th>\n",
       "      <th>education</th>\n",
       "      <th>wage per hour</th>\n",
       "      <th>enroll in edu inst last wk</th>\n",
       "      <th>marital stat</th>\n",
       "      <th>major industry code</th>\n",
       "      <th>...</th>\n",
       "      <th>country of birth father</th>\n",
       "      <th>country of birth mother</th>\n",
       "      <th>country of birth self</th>\n",
       "      <th>citizenship</th>\n",
       "      <th>own business or self employed</th>\n",
       "      <th>fill inc questionnaire for veteran's admin</th>\n",
       "      <th>veterans benefits</th>\n",
       "      <th>weeks worked in year</th>\n",
       "      <th>year</th>\n",
       "      <th>y</th>\n",
       "    </tr>\n",
       "  </thead>\n",
       "  <tbody>\n",
       "    <tr>\n",
       "      <th>0</th>\n",
       "      <td>0</td>\n",
       "      <td>33</td>\n",
       "      <td>Private</td>\n",
       "      <td>34</td>\n",
       "      <td>26</td>\n",
       "      <td>Masters degree(MA MS MEng MEd MSW MBA)</td>\n",
       "      <td>0</td>\n",
       "      <td>Not in universe</td>\n",
       "      <td>Married-civilian spouse present</td>\n",
       "      <td>Finance insurance and real estate</td>\n",
       "      <td>...</td>\n",
       "      <td>China</td>\n",
       "      <td>China</td>\n",
       "      <td>Taiwan</td>\n",
       "      <td>Foreign born- Not a citizen of U S</td>\n",
       "      <td>2</td>\n",
       "      <td>Not in universe</td>\n",
       "      <td>2</td>\n",
       "      <td>52</td>\n",
       "      <td>95</td>\n",
       "      <td>50000+.</td>\n",
       "    </tr>\n",
       "    <tr>\n",
       "      <th>1</th>\n",
       "      <td>1</td>\n",
       "      <td>63</td>\n",
       "      <td>Private</td>\n",
       "      <td>7</td>\n",
       "      <td>22</td>\n",
       "      <td>Some college but no degree</td>\n",
       "      <td>0</td>\n",
       "      <td>Not in universe</td>\n",
       "      <td>Never married</td>\n",
       "      <td>Manufacturing-durable goods</td>\n",
       "      <td>...</td>\n",
       "      <td>United-States</td>\n",
       "      <td>United-States</td>\n",
       "      <td>United-States</td>\n",
       "      <td>Native- Born in the United States</td>\n",
       "      <td>0</td>\n",
       "      <td>Not in universe</td>\n",
       "      <td>2</td>\n",
       "      <td>52</td>\n",
       "      <td>95</td>\n",
       "      <td>- 50000.</td>\n",
       "    </tr>\n",
       "    <tr>\n",
       "      <th>2</th>\n",
       "      <td>2</td>\n",
       "      <td>71</td>\n",
       "      <td>Not in universe</td>\n",
       "      <td>0</td>\n",
       "      <td>0</td>\n",
       "      <td>7th and 8th grade</td>\n",
       "      <td>0</td>\n",
       "      <td>Not in universe</td>\n",
       "      <td>Married-civilian spouse present</td>\n",
       "      <td>Not in universe or children</td>\n",
       "      <td>...</td>\n",
       "      <td>Germany</td>\n",
       "      <td>United-States</td>\n",
       "      <td>United-States</td>\n",
       "      <td>Native- Born in the United States</td>\n",
       "      <td>0</td>\n",
       "      <td>Not in universe</td>\n",
       "      <td>2</td>\n",
       "      <td>0</td>\n",
       "      <td>95</td>\n",
       "      <td>- 50000.</td>\n",
       "    </tr>\n",
       "    <tr>\n",
       "      <th>3</th>\n",
       "      <td>3</td>\n",
       "      <td>43</td>\n",
       "      <td>Local government</td>\n",
       "      <td>43</td>\n",
       "      <td>10</td>\n",
       "      <td>Bachelors degree(BA AB BS)</td>\n",
       "      <td>0</td>\n",
       "      <td>Not in universe</td>\n",
       "      <td>Married-civilian spouse present</td>\n",
       "      <td>Education</td>\n",
       "      <td>...</td>\n",
       "      <td>United-States</td>\n",
       "      <td>United-States</td>\n",
       "      <td>United-States</td>\n",
       "      <td>Native- Born in the United States</td>\n",
       "      <td>0</td>\n",
       "      <td>Not in universe</td>\n",
       "      <td>2</td>\n",
       "      <td>52</td>\n",
       "      <td>95</td>\n",
       "      <td>- 50000.</td>\n",
       "    </tr>\n",
       "    <tr>\n",
       "      <th>4</th>\n",
       "      <td>4</td>\n",
       "      <td>57</td>\n",
       "      <td>Local government</td>\n",
       "      <td>40</td>\n",
       "      <td>32</td>\n",
       "      <td>Some college but no degree</td>\n",
       "      <td>0</td>\n",
       "      <td>Not in universe</td>\n",
       "      <td>Widowed</td>\n",
       "      <td>Entertainment</td>\n",
       "      <td>...</td>\n",
       "      <td>United-States</td>\n",
       "      <td>United-States</td>\n",
       "      <td>United-States</td>\n",
       "      <td>Native- Born in the United States</td>\n",
       "      <td>0</td>\n",
       "      <td>Not in universe</td>\n",
       "      <td>2</td>\n",
       "      <td>52</td>\n",
       "      <td>95</td>\n",
       "      <td>- 50000.</td>\n",
       "    </tr>\n",
       "  </tbody>\n",
       "</table>\n",
       "<p>5 rows × 38 columns</p>\n",
       "</div>"
      ],
      "text/plain": [
       "   id  age    class of worker  detailed industry recode  \\\n",
       "0   0   33            Private                        34   \n",
       "1   1   63            Private                         7   \n",
       "2   2   71    Not in universe                         0   \n",
       "3   3   43   Local government                        43   \n",
       "4   4   57   Local government                        40   \n",
       "\n",
       "   detailed occupation recode                                education  \\\n",
       "0                          26   Masters degree(MA MS MEng MEd MSW MBA)   \n",
       "1                          22               Some college but no degree   \n",
       "2                           0                        7th and 8th grade   \n",
       "3                          10               Bachelors degree(BA AB BS)   \n",
       "4                          32               Some college but no degree   \n",
       "\n",
       "   wage per hour enroll in edu inst last wk                      marital stat  \\\n",
       "0              0            Not in universe   Married-civilian spouse present   \n",
       "1              0            Not in universe                     Never married   \n",
       "2              0            Not in universe   Married-civilian spouse present   \n",
       "3              0            Not in universe   Married-civilian spouse present   \n",
       "4              0            Not in universe                           Widowed   \n",
       "\n",
       "                  major industry code  ... country of birth father  \\\n",
       "0   Finance insurance and real estate  ...                   China   \n",
       "1         Manufacturing-durable goods  ...           United-States   \n",
       "2         Not in universe or children  ...                 Germany   \n",
       "3                           Education  ...           United-States   \n",
       "4                       Entertainment  ...           United-States   \n",
       "\n",
       "  country of birth mother country of birth self  \\\n",
       "0                   China                Taiwan   \n",
       "1           United-States         United-States   \n",
       "2           United-States         United-States   \n",
       "3           United-States         United-States   \n",
       "4           United-States         United-States   \n",
       "\n",
       "                            citizenship own business or self employed  \\\n",
       "0   Foreign born- Not a citizen of U S                              2   \n",
       "1     Native- Born in the United States                             0   \n",
       "2     Native- Born in the United States                             0   \n",
       "3     Native- Born in the United States                             0   \n",
       "4     Native- Born in the United States                             0   \n",
       "\n",
       "  fill inc questionnaire for veteran's admin veterans benefits  \\\n",
       "0                            Not in universe                 2   \n",
       "1                            Not in universe                 2   \n",
       "2                            Not in universe                 2   \n",
       "3                            Not in universe                 2   \n",
       "4                            Not in universe                 2   \n",
       "\n",
       "   weeks worked in year  year          y  \n",
       "0                    52    95    50000+.  \n",
       "1                    52    95   - 50000.  \n",
       "2                     0    95   - 50000.  \n",
       "3                    52    95   - 50000.  \n",
       "4                    52    95   - 50000.  \n",
       "\n",
       "[5 rows x 38 columns]"
      ]
     },
     "execution_count": 4,
     "metadata": {},
     "output_type": "execute_result"
    }
   ],
   "source": [
    "# replace \" ?\" to NaN\n",
    "df.replace(\" ?\",np.nan,inplace = True)\n",
    "df.drop(['migration code-change in msa','migration code-change in reg','migration code-move within reg','migration prev res in sunbelt'],axis=1,inplace=True)\n",
    "df[\"state of previous residence\"].value_counts()\n",
    "df[\"state of previous residence\"].replace(np.nan, df['state of previous residence'].value_counts().idxmax(), inplace=True)\n",
    "df[\"country of birth father\"].value_counts()\n",
    "df[\"country of birth father\"].replace(np.nan, df['country of birth father'].value_counts().idxmax(), inplace=True)\n",
    "df[\"country of birth mother\"].value_counts()\n",
    "df[\"country of birth mother\"].replace(np.nan, df['country of birth mother'].value_counts().idxmax(), inplace=True)\n",
    "df[\"country of birth self\"].value_counts()\n",
    "df[\"country of birth self\"].replace(np.nan, df['country of birth self'].value_counts().idxmax(), inplace=True)\n",
    "df.head()"
   ]
  },
  {
   "cell_type": "code",
   "execution_count": 5,
   "metadata": {},
   "outputs": [
    {
     "name": "stderr",
     "output_type": "stream",
     "text": [
      "<ipython-input-5-acffe5f380f4>:6: SettingWithCopyWarning: \n",
      "A value is trying to be set on a copy of a slice from a DataFrame\n",
      "\n",
      "See the caveats in the documentation: https://pandas.pydata.org/pandas-docs/stable/user_guide/indexing.html#returning-a-view-versus-a-copy\n",
      "  y[i]=1\n",
      "<ipython-input-5-acffe5f380f4>:8: SettingWithCopyWarning: \n",
      "A value is trying to be set on a copy of a slice from a DataFrame\n",
      "\n",
      "See the caveats in the documentation: https://pandas.pydata.org/pandas-docs/stable/user_guide/indexing.html#returning-a-view-versus-a-copy\n",
      "  y[i]=0\n"
     ]
    },
    {
     "data": {
      "text/plain": [
       "0        1\n",
       "1        0\n",
       "2        0\n",
       "3        0\n",
       "4        0\n",
       "        ..\n",
       "54251    1\n",
       "54252    0\n",
       "54253    0\n",
       "54254    0\n",
       "54255    0\n",
       "Name: y, Length: 54256, dtype: object"
      ]
     },
     "execution_count": 5,
     "metadata": {},
     "output_type": "execute_result"
    }
   ],
   "source": [
    "y=df[\"y\"]\n",
    "pos=y[0]\n",
    "neg=y[1]\n",
    "for i in range(0,len(y)):\n",
    "    if(y[i]==pos):\n",
    "        y[i]=1\n",
    "    else:\n",
    "        y[i]=0\n",
    "y"
   ]
  },
  {
   "cell_type": "code",
   "execution_count": 6,
   "metadata": {},
   "outputs": [],
   "source": [
    "x=df.drop([\"y\"],axis=1)\n",
    "x=df.drop([\"id\"],axis=1)\n",
    "list=['class of worker','education',\n",
    "       'enroll in edu inst last wk', 'marital stat','race', 'hispanic origin', 'sex',\n",
    "       'member of a labor union', 'reason for unemployment',\n",
    "       'full or part time employment stat','tax filer stat',\n",
    "       'region of previous residence', 'state of previous residence',\n",
    "       'detailed household and family stat',\n",
    "       'detailed household summary in household',\n",
    "       'live in this house 1 year ago', 'num persons worked for employer',\n",
    "       'family members under 18', 'country of birth father',\n",
    "       'country of birth mother', 'country of birth self', 'citizenship',\n",
    "       'own business or self employed']\n",
    "for i in list:\n",
    "    dummy_variable_1 = pd.get_dummies(x[i])\n",
    "    dummy_variable_1.drop(dummy_variable_1.columns[len(dummy_variable_1.columns)-1],axis=1,inplace=True)#哑变量若要在logistic中使用必须去掉一列，避免多重共线性\n",
    "    x = pd.concat([x, dummy_variable_1], axis=1)\n",
    "    x.drop(i, axis = 1, inplace=True)\n",
    "dummy_variable_1 = pd.get_dummies(x[\"fill inc questionnaire for veteran's admin\"])\n",
    "x = pd.concat([x, dummy_variable_1], axis=1)\n",
    "x.drop(\"fill inc questionnaire for veteran's admin\", axis = 1, inplace=True)\n",
    "x.drop(\"detailed industry recode\", axis = 1, inplace=True)\n",
    "x.drop(\"detailed occupation recode\", axis = 1, inplace=True)\n",
    "dummy_variable_1 = pd.get_dummies(x[\"major industry code\"])\n",
    "x = pd.concat([x, dummy_variable_1], axis=1)\n",
    "x.drop(\"major industry code\", axis = 1, inplace=True)\n",
    "dummy_variable_1 = pd.get_dummies(x[\"major occupation code\"])\n",
    "x = pd.concat([x, dummy_variable_1], axis=1)\n",
    "x.drop(\"major occupation code\", axis = 1, inplace=True)"
   ]
  },
  {
   "cell_type": "markdown",
   "metadata": {},
   "source": [
    "## 3. 神经网络"
   ]
  },
  {
   "cell_type": "code",
   "execution_count": 7,
   "metadata": {},
   "outputs": [],
   "source": [
    "from sklearn.model_selection import cross_val_score\n",
    "from sklearn.ensemble import AdaBoostClassifier"
   ]
  },
  {
   "cell_type": "code",
   "execution_count": 11,
   "metadata": {},
   "outputs": [],
   "source": [
    "from sklearn.neural_network import MLPClassifier\n",
    "mlp=MLPClassifier(activation='relu', alpha=1e-05, batch_size='auto', beta_1=0.9,\n",
    "       beta_2=0.999, early_stopping=False, epsilon=1e-08,\n",
    "       hidden_layer_sizes=(5, 2), learning_rate='constant',\n",
    "       learning_rate_init=0.001, max_iter=8000, momentum=0.9,\n",
    "       nesterovs_momentum=True, power_t=0.5, random_state=1, shuffle=True,\n",
    "       solver='adam', tol=0.0001, validation_fraction=0.1, verbose=False,\n",
    "       warm_start=False)"
   ]
  },
  {
   "cell_type": "code",
   "execution_count": 12,
   "metadata": {},
   "outputs": [
    {
     "data": {
      "text/plain": [
       "MLPClassifier(alpha=1e-05, hidden_layer_sizes=(5, 2), max_iter=8000,\n",
       "              random_state=1)"
      ]
     },
     "execution_count": 12,
     "metadata": {},
     "output_type": "execute_result"
    }
   ],
   "source": [
    "mlp.fit(x,y.astype(\"int\"))"
   ]
  },
  {
   "cell_type": "code",
   "execution_count": 13,
   "metadata": {},
   "outputs": [
    {
     "name": "stdout",
     "output_type": "stream",
     "text": [
      "[0.97088094 0.96830077 0.97585698 0.92849244 0.95374125 0.94563214\n",
      " 0.93308756 0.96442396 0.95336406 0.96387097]\n"
     ]
    }
   ],
   "source": [
    "scores = cross_val_score(mlp, x,y.astype(\"int\"), cv=10, scoring='accuracy')\n",
    "print(scores)"
   ]
  },
  {
   "cell_type": "code",
   "execution_count": 14,
   "metadata": {},
   "outputs": [
    {
     "name": "stdout",
     "output_type": "stream",
     "text": [
      "0.9557651077505305\n"
     ]
    }
   ],
   "source": [
    "print(scores.mean())"
   ]
  },
  {
   "cell_type": "markdown",
   "metadata": {},
   "source": [
    "## 4.调参"
   ]
  },
  {
   "cell_type": "markdown",
   "metadata": {},
   "source": [
    "1.hidden_layer_sizes : 元组形式,长度n_layers-2,默认(100,),第i元素表示第i个神经元的个数\n",
    "2.activation: {‘identity’, ‘logistic’, ‘tanh’, ‘relu’},默认\"relu\"\n",
    "‘identity’: f(x) = x\n",
    "‘logistic’:f(x) = 1 / (1 + exp(-x))\n",
    "‘tanh’ : f(x) = tanh(x)\n",
    "‘relu’ : f(x) = max(0, x)\n",
    "3.solver:{‘lbfgs’, ‘sgd’, ‘adam’}, default ‘adam’\n",
    "4.lbfgs：quasi-Newton方法的优化器\n",
    "5.sgd：随机梯度下降\n",
    "6.adam： Kingma, Diederik, and Jimmy Ba提出的机遇随机梯度的优化器 注意：默认solver ‘adam’在相对较大的数据集上效果比较好（几千个样本或者更多），对小数据集来说，lbfgs收敛更快效果也更好\n",
    "7.alpha:float,可选的，默认0.0001,正则化项参数\n",
    "8.batch_size:int , 可选的，默认‘auto’,随机优化的minibatches的大小，如果solver是‘lbfgs’，分类器将不使用minibatch，当设置成‘auto’，batch_size=min(200,n_samples)\n",
    "9.learning_rate:{‘constant’，‘invscaling’, ‘adaptive’},默认‘constant’，用于权重更新，只有当solver为’sgd‘时使用\n",
    "‘constant’: 有‘learning_rate_init’给定的恒定学习率\n",
    "‘incscaling’：随着时间t使用’power_t’的逆标度指数不断降低学习率learning_rate_effective_learning_rate = learning_rate_init / pow(t, power_t)\n",
    "‘adaptive’：只要训练损耗在下降，就保持学习为’learning_rate_init’不变，当连续两次不能降低训练损耗或验证分数停止升高至少tol时，将当前学习率除以5.\n",
    "10.max_iter: int，可选，默认200，最大迭代次数。\n",
    "11.random_state:int 或RandomState，可选，默认None，随机数生成器的状态或种子\n",
    "12.shuffle: bool，可选，默认True,只有当solver=’sgd’或者‘adam’时使用，判断是否在每次迭代时对样本进行清洗。\n",
    "13.tol：float, 可选，默认1e-4，优化的容忍度\n",
    "14.learning_rate_int:double,可选，默认0.001，初始学习率，控制更新权重的补偿，只有当solver=’sgd’ 或’adam’时使用。\n",
    "15.power_t: double, optional, default 0.5，只有solver=’sgd’时使用，是逆扩展学习率的指数.当learning_rate=’invscaling’，用来更新有效学习率。\n",
    "16.verbose : bool, optional, default False,是否将过程打印到stdout\n",
    "17.warm_start : bool, optional, default False,当设置成True，使用之前的解决方法作为初始拟合，否则释放之前的解决方法\n",
    "18.momentum : float, default 0.9,Momentum(动量） for gradient descent update. Should be between 0 and 1. Only used when solver=’sgd’.\n",
    "19.nesterovs_momentum : boolean, default True, Whether to use Nesterov’s momentum. Only used when solver=’sgd’ and momentum > 0\n",
    "20.early_stopping : bool, default False,Only effective when solver=’sgd’ or ‘adam’,判断当验证效果不再改善的时候是否终止训练，当为True时，自动选出10%的训练数据用于验证并在两步连续爹迭代改善低于tol时终止训练\n",
    "21.validation_fraction: float, optional, default 0.1,用作早期停止验证的预留训练数据集的比例，早0-1之间，只当early_stopping=True有用\n",
    "22.beta_1 : float, optional, default 0.9，Only used when solver=’adam’，估计一阶矩向量的指数衰减速率，[0,1)之间。\n",
    "23.beta_2 : float, optional, default 0.999,Only used when solver=’adam’估计二阶矩向量的指数衰减速率[0,1)之间\n",
    "24.psilon: float, optional, default 1e-8,Only used when solver=’adam’数值稳定值。\n",
    "【1】https://zhuanlan.zhihu.com/p/47175127"
   ]
  },
  {
   "cell_type": "code",
   "execution_count": 16,
   "metadata": {},
   "outputs": [],
   "source": [
    "from sklearn.model_selection import train_test_split\n",
    "splits = train_test_split(x ,y ,test_size=0.95, random_state=42)\n",
    "x_train, x_test, y_train, y_test = splits #为了节省时间，可以先在小样本上进行调参"
   ]
  },
  {
   "cell_type": "code",
   "execution_count": 18,
   "metadata": {},
   "outputs": [],
   "source": [
    "learning_rate=[0.0001,0.001,0.01]\n",
    "accu=[]\n",
    "for i in learning_rate:\n",
    "       mlp=MLPClassifier(activation='relu', alpha=1e-05, batch_size='auto', beta_1=0.9,\n",
    "       beta_2=0.999, early_stopping=False, epsilon=1e-08,\n",
    "       hidden_layer_sizes=(5, 2), learning_rate='constant',\n",
    "       learning_rate_init=i, max_iter=8000, momentum=0.9,\n",
    "       nesterovs_momentum=True, power_t=0.5, random_state=1, shuffle=True,\n",
    "       solver='adam', tol=0.0001, validation_fraction=0.1, verbose=False,\n",
    "       warm_start=False)\n",
    "       mlp.fit(x_train,y_train.astype(\"int\")) \n",
    "       scores = cross_val_score(mlp, x,y.astype(\"int\"), cv=10, scoring='accuracy')\n",
    "       accu.append(scores.mean()) "
   ]
  },
  {
   "cell_type": "code",
   "execution_count": 19,
   "metadata": {},
   "outputs": [
    {
     "data": {
      "image/png": "[encoded data removed]",
      "text/plain": [
       "<Figure size 432x288 with 1 Axes>"
      ]
     },
     "metadata": {
      "needs_background": "light"
     },
     "output_type": "display_data"
    }
   ],
   "source": [
    "import matplotlib.pyplot as plt \n",
    "plt.plot(learning_rate,accu)\n",
    "plt.xlabel(\"learning_rate\", fontsize=12)\n",
    "plt.ylabel(\"Accuracy\", fontsize=12)\n",
    "plt.show()"
   ]
  },
  {
   "cell_type": "markdown",
   "metadata": {},
   "source": [
    "learning_rate选择0.0001明显要好于其他"
   ]
  },
  {
   "cell_type": "code",
   "execution_count": 22,
   "metadata": {},
   "outputs": [],
   "source": [
    "acti=['identity','logistic','tanh','relu']\n",
    "accu2=[]\n",
    "for i in acti:\n",
    "       mlp=MLPClassifier(activation=i, alpha=1e-05, batch_size='auto', beta_1=0.9,\n",
    "       beta_2=0.999, early_stopping=False, epsilon=1e-08,\n",
    "       hidden_layer_sizes=(5, 2), learning_rate='constant',\n",
    "       learning_rate_init=0.0001, max_iter=8000, momentum=0.9,\n",
    "       nesterovs_momentum=True, power_t=0.5, random_state=1, shuffle=True,\n",
    "       solver='adam', tol=0.0001, validation_fraction=0.1, verbose=False,\n",
    "       warm_start=False)\n",
    "       mlp.fit(x_train,y_train.astype(\"int\")) \n",
    "       scores = cross_val_score(mlp, x_train,y_train.astype(\"int\"), cv=3, scoring='accuracy')\n",
    "       accu2.append(scores.mean()) "
   ]
  },
  {
   "cell_type": "code",
   "execution_count": 24,
   "metadata": {},
   "outputs": [
    {
     "data": {
      "image/png": "[encoded data removed]",
      "text/plain": [
       "<Figure size 432x288 with 1 Axes>"
      ]
     },
     "metadata": {
      "needs_background": "light"
     },
     "output_type": "display_data"
    }
   ],
   "source": [
    "plt.bar(acti,accu2)\n",
    "plt.xlabel(\"activation\", fontsize=12)\n",
    "plt.ylabel(\"Accuracy\", fontsize=12)\n",
    "plt.show()"
   ]
  },
  {
   "cell_type": "code",
   "execution_count": 26,
   "metadata": {},
   "outputs": [],
   "source": [
    "layer=[3,4,5,6,7]\n",
    "accu3=[]\n",
    "for i in layer:\n",
    "       mlp=MLPClassifier(alpha=1e-05, batch_size='auto', beta_1=0.9,\n",
    "       beta_2=0.999, early_stopping=False, epsilon=1e-08,\n",
    "       hidden_layer_sizes=(i, 2), learning_rate='constant',\n",
    "       learning_rate_init=0.0001, max_iter=8000, momentum=0.9,\n",
    "       nesterovs_momentum=True, power_t=0.5, random_state=1, shuffle=True,\n",
    "       solver='adam', tol=0.0001, validation_fraction=0.1, verbose=False,\n",
    "       warm_start=False)\n",
    "       mlp.fit(x_train,y_train.astype(\"int\")) \n",
    "       scores = cross_val_score(mlp, x_train,y_train.astype(\"int\"), cv=3, scoring='accuracy')\n",
    "       accu3.append(scores.mean()) "
   ]
  },
  {
   "cell_type": "code",
   "execution_count": 28,
   "metadata": {},
   "outputs": [
    {
     "data": {
      "image/png": "[encoded data removed]",
      "text/plain": [
       "<Figure size 432x288 with 1 Axes>"
      ]
     },
     "metadata": {
      "needs_background": "light"
     },
     "output_type": "display_data"
    }
   ],
   "source": [
    "plt.plot(layer,accu3)\n",
    "plt.xlabel(\"hidden_layer_size(i,2)\", fontsize=12)\n",
    "plt.ylabel(\"Accuracy\", fontsize=12)\n",
    "plt.show()"
   ]
  },
  {
   "cell_type": "code",
   "execution_count": 30,
   "metadata": {},
   "outputs": [],
   "source": [
    "layer2=[2,3,4,5]\n",
    "accu4=[]\n",
    "for i in layer2:\n",
    "       mlp=MLPClassifier(alpha=1e-05, batch_size='auto', beta_1=0.9,\n",
    "       beta_2=0.999, early_stopping=False, epsilon=1e-08,\n",
    "       hidden_layer_sizes=(5,i), learning_rate='constant',\n",
    "       learning_rate_init=0.0001, max_iter=8000, momentum=0.9,\n",
    "       nesterovs_momentum=True, power_t=0.5, random_state=1, shuffle=True,\n",
    "       solver='adam', tol=0.0001, validation_fraction=0.1, verbose=False,\n",
    "       warm_start=False)\n",
    "       mlp.fit(x_train,y_train.astype(\"int\")) \n",
    "       scores = cross_val_score(mlp, x_train,y_train.astype(\"int\"), cv=3, scoring='accuracy')\n",
    "       accu4.append(scores.mean()) "
   ]
  },
  {
   "cell_type": "code",
   "execution_count": 32,
   "metadata": {},
   "outputs": [
    {
     "data": {
      "image/png": "[encoded data removed]",
      "text/plain": [
       "<Figure size 432x288 with 1 Axes>"
      ]
     },
     "metadata": {
      "needs_background": "light"
     },
     "output_type": "display_data"
    }
   ],
   "source": [
    "plt.plot(layer2,accu4)\n",
    "plt.xlabel(\"hidden_layer_size(5,i)\", fontsize=12)\n",
    "plt.ylabel(\"Accuracy\", fontsize=12)\n",
    "plt.show()"
   ]
  },
  {
   "cell_type": "code",
   "execution_count": 33,
   "metadata": {},
   "outputs": [],
   "source": [
    "mlp=MLPClassifier(activation='tanh', alpha=1e-05, batch_size='auto', beta_1=0.9,\n",
    "       beta_2=0.999, early_stopping=False, epsilon=1e-08,\n",
    "       hidden_layer_sizes=(5, 2), learning_rate='constant',\n",
    "       learning_rate_init=0.001, max_iter=8000, momentum=0.9,\n",
    "       nesterovs_momentum=True, power_t=0.5, random_state=1, shuffle=True,\n",
    "       solver='adam', tol=0.0001, validation_fraction=0.1, verbose=False,\n",
    "       warm_start=False)"
   ]
  },
  {
   "cell_type": "code",
   "execution_count": 34,
   "metadata": {},
   "outputs": [
    {
     "name": "stdout",
     "output_type": "stream",
     "text": [
      "[0.95816439 0.92241062 0.9489495  0.92793955 0.93623295 0.95392554\n",
      " 0.88866359 0.91834101 0.92718894 0.91539171]\n"
     ]
    }
   ],
   "source": [
    "mlp.fit(x,y.astype(\"int\"))\n",
    "scores = cross_val_score(mlp, x,y.astype(\"int\"), cv=10, scoring='accuracy')\n",
    "print(scores)"
   ]
  },
  {
   "cell_type": "code",
   "execution_count": 35,
   "metadata": {},
   "outputs": [
    {
     "name": "stdout",
     "output_type": "stream",
     "text": [
      "0.9297207811510037\n"
     ]
    }
   ],
   "source": [
    "print(scores.mean())"
   ]
  },
  {
   "cell_type": "markdown",
   "metadata": {},
   "source": [
    "总而言之，在大样本上准确度反而下降了。"
   ]
  },
  {
   "cell_type": "code",
   "execution_count": 36,
   "metadata": {},
   "outputs": [],
   "source": [
    "mlp=MLPClassifier(activation='relu', alpha=1e-05, batch_size='auto', beta_1=0.9,\n",
    "       beta_2=0.999, early_stopping=False, epsilon=1e-08,\n",
    "       hidden_layer_sizes=(5, 2), learning_rate='constant',\n",
    "       learning_rate_init=0.001, max_iter=8000, momentum=0.9,\n",
    "       nesterovs_momentum=True, power_t=0.5, random_state=1, shuffle=True,\n",
    "       solver='sgd', tol=0.0001, validation_fraction=0.1, verbose=False,\n",
    "       warm_start=False)"
   ]
  },
  {
   "cell_type": "code",
   "execution_count": 37,
   "metadata": {},
   "outputs": [
    {
     "name": "stdout",
     "output_type": "stream",
     "text": [
      "[0.79966826 0.79450792 0.80298562 0.8051972  0.79248065 0.79450792\n",
      " 0.79447005 0.79447005 0.79447005 0.80534562]\n"
     ]
    }
   ],
   "source": [
    "mlp.fit(x,y.astype(\"int\"))\n",
    "scores = cross_val_score(mlp, x,y.astype(\"int\"), cv=10, scoring='accuracy')\n",
    "print(scores)"
   ]
  },
  {
   "cell_type": "code",
   "execution_count": 38,
   "metadata": {},
   "outputs": [
    {
     "name": "stdout",
     "output_type": "stream",
     "text": [
      "0.7978103346067152\n"
     ]
    }
   ],
   "source": [
    "print(scores.mean())"
   ]
  },
  {
   "cell_type": "code",
   "execution_count": null,
   "metadata": {},
   "outputs": [],
   "source": [
    "将solver改为sgd，准确度下降。"
   ]
  }
 ],
 "metadata": {
  "kernelspec": {
   "display_name": "Python 3",
   "language": "python",
   "name": "python3"
  },
  "language_info": {
   "codemirror_mode": {
    "name": "ipython",
    "version": 3
   },
   "file_extension": ".py",
   "mimetype": "text/x-python",
   "name": "python",
   "nbconvert_exporter": "python",
   "pygments_lexer": "ipython3",
   "version": "3.8.5"
  }
 },
 "nbformat": 4,
 "nbformat_minor": 4
}
