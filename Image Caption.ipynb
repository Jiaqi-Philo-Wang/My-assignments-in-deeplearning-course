{
 "cells": [
  {
   "cell_type": "code",
   "execution_count": null,
   "metadata": {},
   "outputs": [],
   "source": [
    "一、"
   ]
  },
  {
   "cell_type": "code",
   "execution_count": null,
   "metadata": {},
   "outputs": [],
   "source": [
    "import argparse\n",
    "parser = argparse.ArgumentParser()  # 命令行参数解析器\n",
    "parser.add_argument(\n",
    "    '--model_path',  # 命令行参数名\n",
    "    type=str,  # 类型\n",
    "    default='./models/',  # 默认值\n",
    "    help='path for saving trained models')  # 提示\n",
    "# 创建其他命令行参数...\n",
    "args = parser.parse_args()  # 获取命令行参数\n",
    "print(args)  # 打印查看命令行参数"
   ]
  }
 ],
 "metadata": {
  "kernelspec": {
   "display_name": "Python [conda env:pytorch]",
   "language": "python",
   "name": "conda-env-pytorch-py"
  },
  "language_info": {
   "codemirror_mode": {
    "name": "ipython",
    "version": 3
   },
   "file_extension": ".py",
   "mimetype": "text/x-python",
   "name": "python",
   "nbconvert_exporter": "python",
   "pygments_lexer": "ipython3",
   "version": "3.8.5"
  }
 },
 "nbformat": 4,
 "nbformat_minor": 4
}
