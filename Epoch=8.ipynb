{
 "cells": [
  {
   "cell_type": "markdown",
   "metadata": {},
   "source": [
    "电商18 180412126 王佳琦"
   ]
  },
  {
   "cell_type": "code",
   "execution_count": 1,
   "metadata": {},
   "outputs": [
    {
     "name": "stdout",
     "output_type": "stream",
     "text": [
      "Files already downloaded and verified\n",
      "Files already downloaded and verified\n"
     ]
    }
   ],
   "source": [
    "import torch\n",
    "import torchvision\n",
    "import torchvision.transforms as transforms\n",
    "transform = transforms.Compose(\n",
    "    [transforms.ToTensor(),\n",
    "     transforms.Normalize((0.5, 0.5, 0.5), (0.5, 0.5, 0.5))])#数据集加载时，默认的图片格式是 numpy，所以通过 transforms 转换成 Tensor。\n",
    "                                                              #然后，再对输入图片进行标准化。\n",
    "    #前面的（0.5，0.5，0.5） 是 R G B 三个通道上的均值， 后面(0.5, 0.5, 0.5)是三个通道的标准差，Normalize对每个通道执行以下操作：image =（图像-平均值）/ std\n",
    "\n",
    "batch_size = 4\n",
    "\n",
    "#batchsize: 批大小 num_works:num_works: 是否多进程读取数据 shuffle: 每个 epoch 是否乱序 drop_last: 当样本数不能被 batchsize 整除时，是否舍弃最后一批数据\n",
    "\n",
    "trainset = torchvision.datasets.CIFAR10(root='./data', train=True,\n",
    "                                        download=True, transform=transform)\n",
    "trainloader = torch.utils.data.DataLoader(trainset, batch_size=batch_size,\n",
    "                                          shuffle=True, num_workers=2)\n",
    "\n",
    "testset = torchvision.datasets.CIFAR10(root='./data', train=False,\n",
    "                                       download=True, transform=transform)\n",
    "testloader = torch.utils.data.DataLoader(testset, batch_size=batch_size,\n",
    "                                         shuffle=False, num_workers=2)\n",
    "\n",
    "classes = ('plane', 'car', 'bird', 'cat',\n",
    "           'deer', 'dog', 'frog', 'horse', 'ship', 'truck')"
   ]
  },
  {
   "cell_type": "code",
   "execution_count": 10,
   "metadata": {},
   "outputs": [],
   "source": [
    "import torch.nn as nn\n",
    "import torch.nn.functional as F\n",
    "\n",
    "\n",
    "class Net(nn.Module):\n",
    "    def __init__(self):\n",
    "        super().__init__()\n",
    "        self.conv1 = nn.Conv2d(3, 6, 5)\n",
    "        self.pool = nn.MaxPool2d(2, 2)             #定义卷积层和池化层\n",
    "        self.conv2 = nn.Conv2d(6, 16, 5)\n",
    "        self.fc1 = nn.Linear(16 * 5 * 5, 120)       #定义全连接层\n",
    "        self.fc2 = nn.Linear(120, 84)\n",
    "        self.fc3 = nn.Linear(84, 10)\n",
    "\n",
    "    def forward(self, x):\n",
    "        x = self.pool(F.relu(self.conv1(x)))\n",
    "        x = self.pool(F.relu(self.conv2(x)))\n",
    "        x = torch.flatten(x, 1) # flatten all dimensions except batch\n",
    "        x = F.relu(self.fc1(x))\n",
    "        x = F.relu(self.fc2(x))\n",
    "        x = self.fc3(x)\n",
    "        return x\n",
    "\n",
    "\n",
    "net = Net()"
   ]
  },
  {
   "cell_type": "code",
   "execution_count": 11,
   "metadata": {},
   "outputs": [],
   "source": [
    "import torch.optim as optim\n",
    "\n",
    "criterion = nn.CrossEntropyLoss()         #用交叉熵作loss function\n",
    "optimizer = optim.SGD(net.parameters(), lr=0.001, momentum=0.9)  #随机梯度下降法"
   ]
  },
  {
   "cell_type": "code",
   "execution_count": 12,
   "metadata": {},
   "outputs": [
    {
     "name": "stdout",
     "output_type": "stream",
     "text": [
      "[1,  2000] loss: 2.225\n",
      "[1,  4000] loss: 1.893\n",
      "[1,  6000] loss: 1.713\n",
      "[1,  8000] loss: 1.632\n",
      "[1, 10000] loss: 1.555\n",
      "[1, 12000] loss: 1.508\n",
      "[2,  2000] loss: 1.414\n",
      "[2,  4000] loss: 1.406\n",
      "[2,  6000] loss: 1.371\n",
      "[2,  8000] loss: 1.326\n",
      "[2, 10000] loss: 1.343\n",
      "[2, 12000] loss: 1.286\n",
      "[3,  2000] loss: 1.220\n",
      "[3,  4000] loss: 1.228\n",
      "[3,  6000] loss: 1.204\n",
      "[3,  8000] loss: 1.210\n",
      "[3, 10000] loss: 1.183\n",
      "[3, 12000] loss: 1.184\n",
      "[4,  2000] loss: 1.098\n",
      "[4,  4000] loss: 1.099\n",
      "[4,  6000] loss: 1.116\n",
      "[4,  8000] loss: 1.117\n",
      "[4, 10000] loss: 1.115\n",
      "[4, 12000] loss: 1.128\n",
      "[5,  2000] loss: 1.033\n",
      "[5,  4000] loss: 1.045\n",
      "[5,  6000] loss: 1.026\n",
      "[5,  8000] loss: 1.059\n",
      "[5, 10000] loss: 1.056\n",
      "[5, 12000] loss: 1.034\n",
      "[6,  2000] loss: 0.966\n",
      "[6,  4000] loss: 0.977\n",
      "[6,  6000] loss: 0.986\n",
      "[6,  8000] loss: 0.977\n",
      "[6, 10000] loss: 1.000\n",
      "[6, 12000] loss: 1.003\n",
      "[7,  2000] loss: 0.904\n",
      "[7,  4000] loss: 0.924\n",
      "[7,  6000] loss: 0.944\n",
      "[7,  8000] loss: 0.960\n",
      "[7, 10000] loss: 0.956\n",
      "[7, 12000] loss: 0.965\n",
      "[8,  2000] loss: 0.852\n",
      "[8,  4000] loss: 0.885\n",
      "[8,  6000] loss: 0.898\n",
      "[8,  8000] loss: 0.917\n",
      "[8, 10000] loss: 0.927\n",
      "[8, 12000] loss: 0.913\n",
      "Finished Training\n"
     ]
    }
   ],
   "source": [
    "for epoch in range(8):  # loop over the dataset multiple times\n",
    "\n",
    "    running_loss = 0.0\n",
    "    for i, data in enumerate(trainloader, 0):\n",
    "        # get the inputs; data is a list of [inputs, labels]\n",
    "        inputs, labels = data          \n",
    "\n",
    "        # zero the parameter gradients\n",
    "        optimizer.zero_grad()       #梯度从零开始\n",
    "\n",
    "        # forward + backward + optimize\n",
    "        outputs = net(inputs)\n",
    "        loss = criterion(outputs, labels)\n",
    "        loss.backward()\n",
    "        optimizer.step()\n",
    "\n",
    "        # print statistics\n",
    "        running_loss += loss.item()\n",
    "        if i % 2000 == 1999:    # print every 2000 mini-batches\n",
    "            print('[%d, %5d] loss: %.3f' %\n",
    "                  (epoch + 1, i + 1, running_loss / 2000))\n",
    "            running_loss = 0.0\n",
    "\n",
    "print('Finished Training')"
   ]
  },
  {
   "cell_type": "code",
   "execution_count": 13,
   "metadata": {},
   "outputs": [
    {
     "name": "stdout",
     "output_type": "stream",
     "text": [
      "Accuracy of the network on the 10000 test images: 62 %\n"
     ]
    }
   ],
   "source": [
    "correct = 0\n",
    "total = 0\n",
    "# since we're not training, we don't need to calculate the gradients for our outputs\n",
    "with torch.no_grad():\n",
    "    for data in testloader:\n",
    "        images, labels = data\n",
    "        # calculate outputs by running images through the network\n",
    "        outputs = net(images)        #放进模型里\n",
    "        # the class with the highest energy is what we choose as prediction\n",
    "        _, predicted = torch.max(outputs.data, 1)\n",
    "        total += labels.size(0)\n",
    "        correct += (predicted == labels).sum().item()  #相同的累加\n",
    "\n",
    "print('Accuracy of the network on the 2500 test images: %d %%' % (\n",
    "    100 * correct / total))"
   ]
  },
  {
   "cell_type": "code",
   "execution_count": 14,
   "metadata": {},
   "outputs": [
    {
     "name": "stdout",
     "output_type": "stream",
     "text": [
      "Accuracy for class plane is: 63.7 %\n",
      "Accuracy for class car   is: 71.7 %\n",
      "Accuracy for class bird  is: 49.8 %\n",
      "Accuracy for class cat   is: 36.2 %\n",
      "Accuracy for class deer  is: 56.9 %\n",
      "Accuracy for class dog   is: 64.5 %\n",
      "Accuracy for class frog  is: 60.4 %\n",
      "Accuracy for class horse is: 69.7 %\n",
      "Accuracy for class ship  is: 73.8 %\n",
      "Accuracy for class truck is: 74.6 %\n"
     ]
    }
   ],
   "source": [
    "# prepare to count predictions for each class\n",
    "correct_pred = {classname: 0 for classname in classes}  #定义列表\n",
    "total_pred = {classname: 0 for classname in classes}\n",
    "\n",
    "# again no gradients needed\n",
    "with torch.no_grad():\n",
    "    for data in testloader:\n",
    "        images, labels = data\n",
    "        outputs = net(images)\n",
    "        _, predictions = torch.max(outputs, 1)\n",
    "        # collect the correct predictions for each class\n",
    "        for label, prediction in zip(labels, predictions):\n",
    "            if label == prediction:\n",
    "                correct_pred[classes[label]] += 1\n",
    "            total_pred[classes[label]] += 1\n",
    "\n",
    "\n",
    "# print accuracy for each class\n",
    "for classname, correct_count in correct_pred.items():\n",
    "    accuracy = 100 * float(correct_count) / total_pred[classname]\n",
    "    print(\"Accuracy for class {:5s} is: {:.1f} %\".format(classname,\n",
    "                                                   accuracy))"
   ]
  },
  {
   "cell_type": "code",
   "execution_count": null,
   "metadata": {},
   "outputs": [],
   "source": []
  }
 ],
 "metadata": {
  "kernelspec": {
   "display_name": "Python [conda env:pytorch]",
   "language": "python",
   "name": "conda-env-pytorch-py"
  },
  "language_info": {
   "codemirror_mode": {
    "name": "ipython",
    "version": 3
   },
   "file_extension": ".py",
   "mimetype": "text/x-python",
   "name": "python",
   "nbconvert_exporter": "python",
   "pygments_lexer": "ipython3",
   "version": "3.8.5"
  }
 },
 "nbformat": 4,
 "nbformat_minor": 4
}
